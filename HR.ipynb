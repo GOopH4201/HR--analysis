{
 "cells": [
  {
   "cell_type": "markdown",
   "metadata": {},
   "source": [
    "# ИССЛЕДОВАНИЕ ДАННЫХ HR-АГЕНТСТВА"
   ]
  },
  {
   "cell_type": "code",
   "execution_count": 2,
   "metadata": {},
   "outputs": [],
   "source": [
    "import warnings\n",
    "warnings.filterwarnings('ignore')"
   ]
  },
  {
   "cell_type": "markdown",
   "metadata": {},
   "source": [
    "Ключевые вопросы:\n",
    "\n",
    "1. Выяснить, какие факторы влияют на зарплату специалиста **Data Scientist**.\n",
    "1. А также ответить на ключевые вопросы HR-агентства:\n",
    "   * Наблюдается ли ежегодный рост зарплат у специалистов **Data Scientist**?\n",
    "   * Как соотносятся зарплаты **Data Scientist** и **Data Engineer** в 2022 году?\n",
    "   * Как соотносятся зарплаты специалистов **Data Scientist** в компаниях различных размеров?\n",
    "   * Есть ли связь между наличием должностей **Data Scientist** и **Data Engineer** и размером компании?"
   ]
  },
  {
   "cell_type": "markdown",
   "metadata": {},
   "source": [
    "## Ввод данных"
   ]
  },
  {
   "cell_type": "code",
   "execution_count": 3,
   "metadata": {},
   "outputs": [],
   "source": [
    "import pandas as pd\n",
    "\n",
    "hr_df = pd.read_csv(\"data\\\\data.zip\").drop(\"Unnamed: 0\", axis=1)"
   ]
  },
  {
   "cell_type": "markdown",
   "metadata": {},
   "source": [
    "## Знакомство с данными"
   ]
  },
  {
   "cell_type": "markdown",
   "metadata": {},
   "source": [
    "* `work_year` - Год, в котором была выплачена зарплата.\n",
    "* `experience_level` - Опыт работы на этой должности в течение года со следующими возможными значениями:\n",
    "   * EN — Entry-level/Junior;\n",
    "   * MI — Mid-level/Intermediate;\n",
    "   * SE — Senior-level/Expert;\n",
    "   * EX — Executive-level/Director.\n",
    "* `employment_type` - Тип трудоустройства для этой роли:\n",
    "   * PT — неполный рабочий день;\n",
    "   * FT — полный рабочий день;\n",
    "   * CT — контракт;\n",
    "   * FL — фриланс.\n",
    "* `job_title` - Роль, в которой соискатель работал в течение года.\n",
    "* `salary` - Общая выплаченная валовая сумма заработной платы.\n",
    "* `salary_currency` - Валюта выплачиваемой заработной платы в виде кода валюты ISO 4217.\n",
    "* `salary_in_usd` - Зарплата в долларах США (валютный курс, делённый на среднее значение курса доллара США за соответствующий год через fxdata.foorilla.com).\n",
    "* `employee_residence` - Основная страна проживания сотрудника в течение рабочего года в виде кода страны ISO 3166.\n",
    "* `remote_ratio` - Общий объём работы, выполняемой удалённо. Возможные значения:\n",
    "   * 0 — удалённой работы нет (менее 20 %);\n",
    "   * 50 — частично удалённая работа;\n",
    "   * 100 — полностью удалённая работа (более 80 %).\n",
    "* `company_location` - Страна главного офиса работодателя или филиала по контракту в виде кода страны ISO 3166.\n",
    "* `company_size` - Среднее количество людей, работавших в компании в течение года:\n",
    "   * S — менее 50 сотрудников (небольшая компания);\n",
    "   * M — от 50 до 250 сотрудников (средняя компания);\n",
    "   * L — более 250 сотрудников (крупная компания)."
   ]
  },
  {
   "cell_type": "code",
   "execution_count": 4,
   "metadata": {},
   "outputs": [
    {
     "data": {
      "text/html": [
       "<div>\n",
       "<style scoped>\n",
       "    .dataframe tbody tr th:only-of-type {\n",
       "        vertical-align: middle;\n",
       "    }\n",
       "\n",
       "    .dataframe tbody tr th {\n",
       "        vertical-align: top;\n",
       "    }\n",
       "\n",
       "    .dataframe thead th {\n",
       "        text-align: right;\n",
       "    }\n",
       "</style>\n",
       "<table border=\"1\" class=\"dataframe\">\n",
       "  <thead>\n",
       "    <tr style=\"text-align: right;\">\n",
       "      <th></th>\n",
       "      <th>work_year</th>\n",
       "      <th>experience_level</th>\n",
       "      <th>employment_type</th>\n",
       "      <th>job_title</th>\n",
       "      <th>salary</th>\n",
       "      <th>salary_currency</th>\n",
       "      <th>salary_in_usd</th>\n",
       "      <th>employee_residence</th>\n",
       "      <th>remote_ratio</th>\n",
       "      <th>company_location</th>\n",
       "      <th>company_size</th>\n",
       "    </tr>\n",
       "  </thead>\n",
       "  <tbody>\n",
       "    <tr>\n",
       "      <th>0</th>\n",
       "      <td>2020</td>\n",
       "      <td>MI</td>\n",
       "      <td>FT</td>\n",
       "      <td>Data Scientist</td>\n",
       "      <td>70000</td>\n",
       "      <td>EUR</td>\n",
       "      <td>79833</td>\n",
       "      <td>DE</td>\n",
       "      <td>0</td>\n",
       "      <td>DE</td>\n",
       "      <td>L</td>\n",
       "    </tr>\n",
       "    <tr>\n",
       "      <th>1</th>\n",
       "      <td>2020</td>\n",
       "      <td>SE</td>\n",
       "      <td>FT</td>\n",
       "      <td>Machine Learning Scientist</td>\n",
       "      <td>260000</td>\n",
       "      <td>USD</td>\n",
       "      <td>260000</td>\n",
       "      <td>JP</td>\n",
       "      <td>0</td>\n",
       "      <td>JP</td>\n",
       "      <td>S</td>\n",
       "    </tr>\n",
       "    <tr>\n",
       "      <th>2</th>\n",
       "      <td>2020</td>\n",
       "      <td>SE</td>\n",
       "      <td>FT</td>\n",
       "      <td>Big Data Engineer</td>\n",
       "      <td>85000</td>\n",
       "      <td>GBP</td>\n",
       "      <td>109024</td>\n",
       "      <td>GB</td>\n",
       "      <td>50</td>\n",
       "      <td>GB</td>\n",
       "      <td>M</td>\n",
       "    </tr>\n",
       "    <tr>\n",
       "      <th>3</th>\n",
       "      <td>2020</td>\n",
       "      <td>MI</td>\n",
       "      <td>FT</td>\n",
       "      <td>Product Data Analyst</td>\n",
       "      <td>20000</td>\n",
       "      <td>USD</td>\n",
       "      <td>20000</td>\n",
       "      <td>HN</td>\n",
       "      <td>0</td>\n",
       "      <td>HN</td>\n",
       "      <td>S</td>\n",
       "    </tr>\n",
       "    <tr>\n",
       "      <th>4</th>\n",
       "      <td>2020</td>\n",
       "      <td>SE</td>\n",
       "      <td>FT</td>\n",
       "      <td>Machine Learning Engineer</td>\n",
       "      <td>150000</td>\n",
       "      <td>USD</td>\n",
       "      <td>150000</td>\n",
       "      <td>US</td>\n",
       "      <td>50</td>\n",
       "      <td>US</td>\n",
       "      <td>L</td>\n",
       "    </tr>\n",
       "  </tbody>\n",
       "</table>\n",
       "</div>"
      ],
      "text/plain": [
       "   work_year experience_level employment_type                   job_title  \\\n",
       "0       2020               MI              FT              Data Scientist   \n",
       "1       2020               SE              FT  Machine Learning Scientist   \n",
       "2       2020               SE              FT           Big Data Engineer   \n",
       "3       2020               MI              FT        Product Data Analyst   \n",
       "4       2020               SE              FT   Machine Learning Engineer   \n",
       "\n",
       "   salary salary_currency  salary_in_usd employee_residence  remote_ratio  \\\n",
       "0   70000             EUR          79833                 DE             0   \n",
       "1  260000             USD         260000                 JP             0   \n",
       "2   85000             GBP         109024                 GB            50   \n",
       "3   20000             USD          20000                 HN             0   \n",
       "4  150000             USD         150000                 US            50   \n",
       "\n",
       "  company_location company_size  \n",
       "0               DE            L  \n",
       "1               JP            S  \n",
       "2               GB            M  \n",
       "3               HN            S  \n",
       "4               US            L  "
      ]
     },
     "execution_count": 4,
     "metadata": {},
     "output_type": "execute_result"
    }
   ],
   "source": [
    "hr_df.head()"
   ]
  },
  {
   "cell_type": "code",
   "execution_count": 5,
   "metadata": {},
   "outputs": [
    {
     "name": "stdout",
     "output_type": "stream",
     "text": [
      "<class 'pandas.core.frame.DataFrame'>\n",
      "RangeIndex: 607 entries, 0 to 606\n",
      "Data columns (total 11 columns):\n",
      " #   Column              Non-Null Count  Dtype \n",
      "---  ------              --------------  ----- \n",
      " 0   work_year           607 non-null    int64 \n",
      " 1   experience_level    607 non-null    object\n",
      " 2   employment_type     607 non-null    object\n",
      " 3   job_title           607 non-null    object\n",
      " 4   salary              607 non-null    int64 \n",
      " 5   salary_currency     607 non-null    object\n",
      " 6   salary_in_usd       607 non-null    int64 \n",
      " 7   employee_residence  607 non-null    object\n",
      " 8   remote_ratio        607 non-null    int64 \n",
      " 9   company_location    607 non-null    object\n",
      " 10  company_size        607 non-null    object\n",
      "dtypes: int64(4), object(7)\n",
      "memory usage: 52.3+ KB\n"
     ]
    }
   ],
   "source": [
    "hr_df.info()"
   ]
  },
  {
   "cell_type": "markdown",
   "metadata": {},
   "source": [
    "Всего 607 записей, пропусков нет"
   ]
  },
  {
   "cell_type": "markdown",
   "metadata": {},
   "source": [
    "## Поиск дубликатов"
   ]
  },
  {
   "cell_type": "code",
   "execution_count": 6,
   "metadata": {},
   "outputs": [
    {
     "name": "stdout",
     "output_type": "stream",
     "text": [
      "Количество дубликатов: 42\n"
     ]
    }
   ],
   "source": [
    "print(\"Количество дубликатов: {}\".format(hr_df.duplicated().sum()))"
   ]
  },
  {
   "cell_type": "code",
   "execution_count": 7,
   "metadata": {},
   "outputs": [
    {
     "name": "stdout",
     "output_type": "stream",
     "text": [
      "Количество строк после очистки от дубликатов: 565\n"
     ]
    }
   ],
   "source": [
    "hr_df = hr_df.drop_duplicates()\n",
    "print(\"Количество строк после очистки от дубликатов: {}\".format(hr_df.shape[0]))"
   ]
  },
  {
   "cell_type": "markdown",
   "metadata": {},
   "source": [
    "## Свойства данных"
   ]
  },
  {
   "cell_type": "code",
   "execution_count": 8,
   "metadata": {},
   "outputs": [
    {
     "data": {
      "text/html": [
       "<div>\n",
       "<style scoped>\n",
       "    .dataframe tbody tr th:only-of-type {\n",
       "        vertical-align: middle;\n",
       "    }\n",
       "\n",
       "    .dataframe tbody tr th {\n",
       "        vertical-align: top;\n",
       "    }\n",
       "\n",
       "    .dataframe thead th {\n",
       "        text-align: right;\n",
       "    }\n",
       "</style>\n",
       "<table border=\"1\" class=\"dataframe\">\n",
       "  <thead>\n",
       "    <tr style=\"text-align: right;\">\n",
       "      <th></th>\n",
       "      <th>experience_level</th>\n",
       "      <th>employment_type</th>\n",
       "      <th>job_title</th>\n",
       "      <th>salary_currency</th>\n",
       "      <th>employee_residence</th>\n",
       "      <th>company_location</th>\n",
       "      <th>company_size</th>\n",
       "    </tr>\n",
       "  </thead>\n",
       "  <tbody>\n",
       "    <tr>\n",
       "      <th>count</th>\n",
       "      <td>565</td>\n",
       "      <td>565</td>\n",
       "      <td>565</td>\n",
       "      <td>565</td>\n",
       "      <td>565</td>\n",
       "      <td>565</td>\n",
       "      <td>565</td>\n",
       "    </tr>\n",
       "    <tr>\n",
       "      <th>unique</th>\n",
       "      <td>4</td>\n",
       "      <td>4</td>\n",
       "      <td>50</td>\n",
       "      <td>17</td>\n",
       "      <td>57</td>\n",
       "      <td>50</td>\n",
       "      <td>3</td>\n",
       "    </tr>\n",
       "    <tr>\n",
       "      <th>top</th>\n",
       "      <td>SE</td>\n",
       "      <td>FT</td>\n",
       "      <td>Data Scientist</td>\n",
       "      <td>USD</td>\n",
       "      <td>US</td>\n",
       "      <td>US</td>\n",
       "      <td>M</td>\n",
       "    </tr>\n",
       "    <tr>\n",
       "      <th>freq</th>\n",
       "      <td>243</td>\n",
       "      <td>546</td>\n",
       "      <td>130</td>\n",
       "      <td>359</td>\n",
       "      <td>295</td>\n",
       "      <td>318</td>\n",
       "      <td>290</td>\n",
       "    </tr>\n",
       "  </tbody>\n",
       "</table>\n",
       "</div>"
      ],
      "text/plain": [
       "       experience_level employment_type       job_title salary_currency  \\\n",
       "count               565             565             565             565   \n",
       "unique                4               4              50              17   \n",
       "top                  SE              FT  Data Scientist             USD   \n",
       "freq                243             546             130             359   \n",
       "\n",
       "       employee_residence company_location company_size  \n",
       "count                 565              565          565  \n",
       "unique                 57               50            3  \n",
       "top                    US               US            M  \n",
       "freq                  295              318          290  "
      ]
     },
     "execution_count": 8,
     "metadata": {},
     "output_type": "execute_result"
    }
   ],
   "source": [
    "hr_df.describe(include=\"object\")"
   ]
  },
  {
   "cell_type": "code",
   "execution_count": 9,
   "metadata": {},
   "outputs": [
    {
     "data": {
      "text/html": [
       "<div>\n",
       "<style scoped>\n",
       "    .dataframe tbody tr th:only-of-type {\n",
       "        vertical-align: middle;\n",
       "    }\n",
       "\n",
       "    .dataframe tbody tr th {\n",
       "        vertical-align: top;\n",
       "    }\n",
       "\n",
       "    .dataframe thead th {\n",
       "        text-align: right;\n",
       "    }\n",
       "</style>\n",
       "<table border=\"1\" class=\"dataframe\">\n",
       "  <thead>\n",
       "    <tr style=\"text-align: right;\">\n",
       "      <th></th>\n",
       "      <th>work_year</th>\n",
       "      <th>salary</th>\n",
       "      <th>salary_in_usd</th>\n",
       "      <th>remote_ratio</th>\n",
       "    </tr>\n",
       "  </thead>\n",
       "  <tbody>\n",
       "    <tr>\n",
       "      <th>count</th>\n",
       "      <td>565</td>\n",
       "      <td>565</td>\n",
       "      <td>565</td>\n",
       "      <td>565</td>\n",
       "    </tr>\n",
       "    <tr>\n",
       "      <th>mean</th>\n",
       "      <td>2021.3646</td>\n",
       "      <td>338115.99</td>\n",
       "      <td>110610.34</td>\n",
       "      <td>69.911504</td>\n",
       "    </tr>\n",
       "    <tr>\n",
       "      <th>std</th>\n",
       "      <td>0.6981384</td>\n",
       "      <td>1599878.8</td>\n",
       "      <td>72280.703</td>\n",
       "      <td>40.900666</td>\n",
       "    </tr>\n",
       "    <tr>\n",
       "      <th>min</th>\n",
       "      <td>2020</td>\n",
       "      <td>4000</td>\n",
       "      <td>2859</td>\n",
       "      <td>0</td>\n",
       "    </tr>\n",
       "    <tr>\n",
       "      <th>25%</th>\n",
       "      <td>2021</td>\n",
       "      <td>67000</td>\n",
       "      <td>60757</td>\n",
       "      <td>50</td>\n",
       "    </tr>\n",
       "    <tr>\n",
       "      <th>50%</th>\n",
       "      <td>2021</td>\n",
       "      <td>110925</td>\n",
       "      <td>100000</td>\n",
       "      <td>100</td>\n",
       "    </tr>\n",
       "    <tr>\n",
       "      <th>75%</th>\n",
       "      <td>2022</td>\n",
       "      <td>165000</td>\n",
       "      <td>150000</td>\n",
       "      <td>100</td>\n",
       "    </tr>\n",
       "    <tr>\n",
       "      <th>max</th>\n",
       "      <td>2022</td>\n",
       "      <td>30400000</td>\n",
       "      <td>600000</td>\n",
       "      <td>100</td>\n",
       "    </tr>\n",
       "  </tbody>\n",
       "</table>\n",
       "</div>"
      ],
      "text/plain": [
       "       work_year    salary  salary_in_usd  remote_ratio\n",
       "count        565       565            565           565\n",
       "mean   2021.3646 338115.99      110610.34     69.911504\n",
       "std    0.6981384 1599878.8      72280.703     40.900666\n",
       "min         2020      4000           2859             0\n",
       "25%         2021     67000          60757            50\n",
       "50%         2021    110925         100000           100\n",
       "75%         2022    165000         150000           100\n",
       "max         2022  30400000         600000           100"
      ]
     },
     "execution_count": 9,
     "metadata": {},
     "output_type": "execute_result"
    }
   ],
   "source": [
    "pd.set_option('display.float_format', lambda x: '%.8g' % x)\n",
    "hr_df.select_dtypes(include=\"int64\").describe()"
   ]
  },
  {
   "cell_type": "markdown",
   "metadata": {},
   "source": [
    "## Преобразование признаков"
   ]
  },
  {
   "cell_type": "markdown",
   "metadata": {},
   "source": [
    "У нас имеются упорядоченные категориальные признаки:\n",
    "\n",
    "* experience_level\n",
    "* remote_ratio\n",
    "* company_size"
   ]
  },
  {
   "cell_type": "markdown",
   "metadata": {},
   "source": [
    "Преобразуем их в соответствии с таблицей:\n",
    "\n",
    "| ПРИЗНАК | ЗНАЧЕНИЯ ПРИЗНАКА | ЗНАЧЕНИЯ ПРИЗНАКА ПОСЛЕ ПРЕОБРАЗОВАНИЯ |\n",
    "| :---: | :---: | :---: |\n",
    "| experience_level | EN, MI, SE, EX | 1, 2, 3, 4 |\n",
    "| remote_ratio | 0, 50, 100 | 0, 1, 2 |\n",
    "| company_size | S, M, L | 1, 2, 3 |"
   ]
  },
  {
   "cell_type": "markdown",
   "metadata": {},
   "source": [
    "### Применение изменений"
   ]
  },
  {
   "cell_type": "code",
   "execution_count": 10,
   "metadata": {},
   "outputs": [
    {
     "data": {
      "text/html": [
       "<div>\n",
       "<style scoped>\n",
       "    .dataframe tbody tr th:only-of-type {\n",
       "        vertical-align: middle;\n",
       "    }\n",
       "\n",
       "    .dataframe tbody tr th {\n",
       "        vertical-align: top;\n",
       "    }\n",
       "\n",
       "    .dataframe thead th {\n",
       "        text-align: right;\n",
       "    }\n",
       "</style>\n",
       "<table border=\"1\" class=\"dataframe\">\n",
       "  <thead>\n",
       "    <tr style=\"text-align: right;\">\n",
       "      <th></th>\n",
       "      <th>work_year</th>\n",
       "      <th>experience_level</th>\n",
       "      <th>salary</th>\n",
       "      <th>salary_in_usd</th>\n",
       "      <th>remote_ratio</th>\n",
       "      <th>company_size</th>\n",
       "    </tr>\n",
       "  </thead>\n",
       "  <tbody>\n",
       "    <tr>\n",
       "      <th>count</th>\n",
       "      <td>565</td>\n",
       "      <td>565</td>\n",
       "      <td>565</td>\n",
       "      <td>565</td>\n",
       "      <td>565</td>\n",
       "      <td>565</td>\n",
       "    </tr>\n",
       "    <tr>\n",
       "      <th>mean</th>\n",
       "      <td>2021.3646</td>\n",
       "      <td>2.3663717</td>\n",
       "      <td>338115.99</td>\n",
       "      <td>110610.34</td>\n",
       "      <td>1.3982301</td>\n",
       "      <td>2.1964602</td>\n",
       "    </tr>\n",
       "    <tr>\n",
       "      <th>std</th>\n",
       "      <td>0.6981384</td>\n",
       "      <td>0.79800401</td>\n",
       "      <td>1599878.8</td>\n",
       "      <td>72280.703</td>\n",
       "      <td>0.81801332</td>\n",
       "      <td>0.67001762</td>\n",
       "    </tr>\n",
       "    <tr>\n",
       "      <th>min</th>\n",
       "      <td>2020</td>\n",
       "      <td>1</td>\n",
       "      <td>4000</td>\n",
       "      <td>2859</td>\n",
       "      <td>0</td>\n",
       "      <td>1</td>\n",
       "    </tr>\n",
       "    <tr>\n",
       "      <th>25%</th>\n",
       "      <td>2021</td>\n",
       "      <td>2</td>\n",
       "      <td>67000</td>\n",
       "      <td>60757</td>\n",
       "      <td>1</td>\n",
       "      <td>2</td>\n",
       "    </tr>\n",
       "    <tr>\n",
       "      <th>50%</th>\n",
       "      <td>2021</td>\n",
       "      <td>2</td>\n",
       "      <td>110925</td>\n",
       "      <td>100000</td>\n",
       "      <td>2</td>\n",
       "      <td>2</td>\n",
       "    </tr>\n",
       "    <tr>\n",
       "      <th>75%</th>\n",
       "      <td>2022</td>\n",
       "      <td>3</td>\n",
       "      <td>165000</td>\n",
       "      <td>150000</td>\n",
       "      <td>2</td>\n",
       "      <td>3</td>\n",
       "    </tr>\n",
       "    <tr>\n",
       "      <th>max</th>\n",
       "      <td>2022</td>\n",
       "      <td>4</td>\n",
       "      <td>30400000</td>\n",
       "      <td>600000</td>\n",
       "      <td>2</td>\n",
       "      <td>3</td>\n",
       "    </tr>\n",
       "  </tbody>\n",
       "</table>\n",
       "</div>"
      ],
      "text/plain": [
       "       work_year  experience_level    salary  salary_in_usd  remote_ratio  \\\n",
       "count        565               565       565            565           565   \n",
       "mean   2021.3646         2.3663717 338115.99      110610.34     1.3982301   \n",
       "std    0.6981384        0.79800401 1599878.8      72280.703    0.81801332   \n",
       "min         2020                 1      4000           2859             0   \n",
       "25%         2021                 2     67000          60757             1   \n",
       "50%         2021                 2    110925         100000             2   \n",
       "75%         2022                 3    165000         150000             2   \n",
       "max         2022                 4  30400000         600000             2   \n",
       "\n",
       "       company_size  \n",
       "count           565  \n",
       "mean      2.1964602  \n",
       "std      0.67001762  \n",
       "min               1  \n",
       "25%               2  \n",
       "50%               2  \n",
       "75%               3  \n",
       "max               3  "
      ]
     },
     "execution_count": 10,
     "metadata": {},
     "output_type": "execute_result"
    }
   ],
   "source": [
    "replace_dict = {\n",
    "    \"experience_level\" : ([\"EN\",\"MI\",\"SE\",\"EX\"],[1, 2, 3, 4]),\n",
    "    \"remote_ratio\" : ([0, 50, 100],[0, 1, 2]),\n",
    "    \"company_size\": ([\"S\",\"M\",\"L\"],[1, 2, 3])\n",
    "}\n",
    "\n",
    "for col in replace_dict:\n",
    "    hr_df[col] = hr_df[col].replace(replace_dict[col][0], replace_dict[col][1])\n",
    "\n",
    "hr_df.describe()"
   ]
  },
  {
   "cell_type": "markdown",
   "metadata": {},
   "source": [
    "###\n",
    "___"
   ]
  },
  {
   "cell_type": "markdown",
   "metadata": {},
   "source": [
    "Так же имеются номинальные категориальные признаки:\n",
    "\n",
    "* employment_type"
   ]
  },
  {
   "cell_type": "markdown",
   "metadata": {},
   "source": [
    "Закодируем признак employment_type. Используем класс `OneHotEncoding` библиотеки *category_encoders*."
   ]
  },
  {
   "cell_type": "code",
   "execution_count": 11,
   "metadata": {},
   "outputs": [],
   "source": [
    "import category_encoders as ce\n",
    "\n",
    "encoder = ce.OneHotEncoder(cols=['employment_type'], use_cat_names=True)\n",
    "type_bin = encoder.fit_transform(hr_df['employment_type'])\n",
    "hr_df = pd.concat([hr_df, type_bin], axis=1)"
   ]
  },
  {
   "cell_type": "markdown",
   "metadata": {},
   "source": [
    "Посмотрим на результат"
   ]
  },
  {
   "cell_type": "code",
   "execution_count": 12,
   "metadata": {},
   "outputs": [
    {
     "data": {
      "text/html": [
       "<div>\n",
       "<style scoped>\n",
       "    .dataframe tbody tr th:only-of-type {\n",
       "        vertical-align: middle;\n",
       "    }\n",
       "\n",
       "    .dataframe tbody tr th {\n",
       "        vertical-align: top;\n",
       "    }\n",
       "\n",
       "    .dataframe thead th {\n",
       "        text-align: right;\n",
       "    }\n",
       "</style>\n",
       "<table border=\"1\" class=\"dataframe\">\n",
       "  <thead>\n",
       "    <tr style=\"text-align: right;\">\n",
       "      <th></th>\n",
       "      <th>work_year</th>\n",
       "      <th>experience_level</th>\n",
       "      <th>employment_type</th>\n",
       "      <th>job_title</th>\n",
       "      <th>salary</th>\n",
       "      <th>salary_currency</th>\n",
       "      <th>salary_in_usd</th>\n",
       "      <th>employee_residence</th>\n",
       "      <th>remote_ratio</th>\n",
       "      <th>company_location</th>\n",
       "      <th>company_size</th>\n",
       "      <th>employment_type_FT</th>\n",
       "      <th>employment_type_CT</th>\n",
       "      <th>employment_type_PT</th>\n",
       "      <th>employment_type_FL</th>\n",
       "    </tr>\n",
       "  </thead>\n",
       "  <tbody>\n",
       "    <tr>\n",
       "      <th>0</th>\n",
       "      <td>2020</td>\n",
       "      <td>2</td>\n",
       "      <td>FT</td>\n",
       "      <td>Data Scientist</td>\n",
       "      <td>70000</td>\n",
       "      <td>EUR</td>\n",
       "      <td>79833</td>\n",
       "      <td>DE</td>\n",
       "      <td>0</td>\n",
       "      <td>DE</td>\n",
       "      <td>3</td>\n",
       "      <td>1</td>\n",
       "      <td>0</td>\n",
       "      <td>0</td>\n",
       "      <td>0</td>\n",
       "    </tr>\n",
       "    <tr>\n",
       "      <th>1</th>\n",
       "      <td>2020</td>\n",
       "      <td>3</td>\n",
       "      <td>FT</td>\n",
       "      <td>Machine Learning Scientist</td>\n",
       "      <td>260000</td>\n",
       "      <td>USD</td>\n",
       "      <td>260000</td>\n",
       "      <td>JP</td>\n",
       "      <td>0</td>\n",
       "      <td>JP</td>\n",
       "      <td>1</td>\n",
       "      <td>1</td>\n",
       "      <td>0</td>\n",
       "      <td>0</td>\n",
       "      <td>0</td>\n",
       "    </tr>\n",
       "    <tr>\n",
       "      <th>2</th>\n",
       "      <td>2020</td>\n",
       "      <td>3</td>\n",
       "      <td>FT</td>\n",
       "      <td>Big Data Engineer</td>\n",
       "      <td>85000</td>\n",
       "      <td>GBP</td>\n",
       "      <td>109024</td>\n",
       "      <td>GB</td>\n",
       "      <td>1</td>\n",
       "      <td>GB</td>\n",
       "      <td>2</td>\n",
       "      <td>1</td>\n",
       "      <td>0</td>\n",
       "      <td>0</td>\n",
       "      <td>0</td>\n",
       "    </tr>\n",
       "    <tr>\n",
       "      <th>3</th>\n",
       "      <td>2020</td>\n",
       "      <td>2</td>\n",
       "      <td>FT</td>\n",
       "      <td>Product Data Analyst</td>\n",
       "      <td>20000</td>\n",
       "      <td>USD</td>\n",
       "      <td>20000</td>\n",
       "      <td>HN</td>\n",
       "      <td>0</td>\n",
       "      <td>HN</td>\n",
       "      <td>1</td>\n",
       "      <td>1</td>\n",
       "      <td>0</td>\n",
       "      <td>0</td>\n",
       "      <td>0</td>\n",
       "    </tr>\n",
       "    <tr>\n",
       "      <th>4</th>\n",
       "      <td>2020</td>\n",
       "      <td>3</td>\n",
       "      <td>FT</td>\n",
       "      <td>Machine Learning Engineer</td>\n",
       "      <td>150000</td>\n",
       "      <td>USD</td>\n",
       "      <td>150000</td>\n",
       "      <td>US</td>\n",
       "      <td>1</td>\n",
       "      <td>US</td>\n",
       "      <td>3</td>\n",
       "      <td>1</td>\n",
       "      <td>0</td>\n",
       "      <td>0</td>\n",
       "      <td>0</td>\n",
       "    </tr>\n",
       "  </tbody>\n",
       "</table>\n",
       "</div>"
      ],
      "text/plain": [
       "   work_year  experience_level employment_type                   job_title  \\\n",
       "0       2020                 2              FT              Data Scientist   \n",
       "1       2020                 3              FT  Machine Learning Scientist   \n",
       "2       2020                 3              FT           Big Data Engineer   \n",
       "3       2020                 2              FT        Product Data Analyst   \n",
       "4       2020                 3              FT   Machine Learning Engineer   \n",
       "\n",
       "   salary salary_currency  salary_in_usd employee_residence  remote_ratio  \\\n",
       "0   70000             EUR          79833                 DE             0   \n",
       "1  260000             USD         260000                 JP             0   \n",
       "2   85000             GBP         109024                 GB             1   \n",
       "3   20000             USD          20000                 HN             0   \n",
       "4  150000             USD         150000                 US             1   \n",
       "\n",
       "  company_location  company_size  employment_type_FT  employment_type_CT  \\\n",
       "0               DE             3                   1                   0   \n",
       "1               JP             1                   1                   0   \n",
       "2               GB             2                   1                   0   \n",
       "3               HN             1                   1                   0   \n",
       "4               US             3                   1                   0   \n",
       "\n",
       "   employment_type_PT  employment_type_FL  \n",
       "0                   0                   0  \n",
       "1                   0                   0  \n",
       "2                   0                   0  \n",
       "3                   0                   0  \n",
       "4                   0                   0  "
      ]
     },
     "execution_count": 12,
     "metadata": {},
     "output_type": "execute_result"
    }
   ],
   "source": [
    "hr_df.head()"
   ]
  },
  {
   "cell_type": "markdown",
   "metadata": {},
   "source": [
    "## Отбор признаков"
   ]
  },
  {
   "cell_type": "markdown",
   "metadata": {},
   "source": [
    "Сперва удалим уже не нужный признак `employment_type`. \\\n",
    "Далее удалим признаки `salary` и `salary_currency` так как информация о зарплате присутствует в едином формате в колонке `salary_in_usd`"
   ]
  },
  {
   "cell_type": "code",
   "execution_count": 13,
   "metadata": {},
   "outputs": [
    {
     "data": {
      "text/html": [
       "<div>\n",
       "<style scoped>\n",
       "    .dataframe tbody tr th:only-of-type {\n",
       "        vertical-align: middle;\n",
       "    }\n",
       "\n",
       "    .dataframe tbody tr th {\n",
       "        vertical-align: top;\n",
       "    }\n",
       "\n",
       "    .dataframe thead th {\n",
       "        text-align: right;\n",
       "    }\n",
       "</style>\n",
       "<table border=\"1\" class=\"dataframe\">\n",
       "  <thead>\n",
       "    <tr style=\"text-align: right;\">\n",
       "      <th></th>\n",
       "      <th>work_year</th>\n",
       "      <th>experience_level</th>\n",
       "      <th>job_title</th>\n",
       "      <th>salary_in_usd</th>\n",
       "      <th>employee_residence</th>\n",
       "      <th>remote_ratio</th>\n",
       "      <th>company_location</th>\n",
       "      <th>company_size</th>\n",
       "      <th>employment_type_FT</th>\n",
       "      <th>employment_type_CT</th>\n",
       "      <th>employment_type_PT</th>\n",
       "      <th>employment_type_FL</th>\n",
       "    </tr>\n",
       "  </thead>\n",
       "  <tbody>\n",
       "    <tr>\n",
       "      <th>0</th>\n",
       "      <td>2020</td>\n",
       "      <td>2</td>\n",
       "      <td>Data Scientist</td>\n",
       "      <td>79833</td>\n",
       "      <td>DE</td>\n",
       "      <td>0</td>\n",
       "      <td>DE</td>\n",
       "      <td>3</td>\n",
       "      <td>1</td>\n",
       "      <td>0</td>\n",
       "      <td>0</td>\n",
       "      <td>0</td>\n",
       "    </tr>\n",
       "    <tr>\n",
       "      <th>1</th>\n",
       "      <td>2020</td>\n",
       "      <td>3</td>\n",
       "      <td>Machine Learning Scientist</td>\n",
       "      <td>260000</td>\n",
       "      <td>JP</td>\n",
       "      <td>0</td>\n",
       "      <td>JP</td>\n",
       "      <td>1</td>\n",
       "      <td>1</td>\n",
       "      <td>0</td>\n",
       "      <td>0</td>\n",
       "      <td>0</td>\n",
       "    </tr>\n",
       "    <tr>\n",
       "      <th>2</th>\n",
       "      <td>2020</td>\n",
       "      <td>3</td>\n",
       "      <td>Big Data Engineer</td>\n",
       "      <td>109024</td>\n",
       "      <td>GB</td>\n",
       "      <td>1</td>\n",
       "      <td>GB</td>\n",
       "      <td>2</td>\n",
       "      <td>1</td>\n",
       "      <td>0</td>\n",
       "      <td>0</td>\n",
       "      <td>0</td>\n",
       "    </tr>\n",
       "    <tr>\n",
       "      <th>3</th>\n",
       "      <td>2020</td>\n",
       "      <td>2</td>\n",
       "      <td>Product Data Analyst</td>\n",
       "      <td>20000</td>\n",
       "      <td>HN</td>\n",
       "      <td>0</td>\n",
       "      <td>HN</td>\n",
       "      <td>1</td>\n",
       "      <td>1</td>\n",
       "      <td>0</td>\n",
       "      <td>0</td>\n",
       "      <td>0</td>\n",
       "    </tr>\n",
       "    <tr>\n",
       "      <th>4</th>\n",
       "      <td>2020</td>\n",
       "      <td>3</td>\n",
       "      <td>Machine Learning Engineer</td>\n",
       "      <td>150000</td>\n",
       "      <td>US</td>\n",
       "      <td>1</td>\n",
       "      <td>US</td>\n",
       "      <td>3</td>\n",
       "      <td>1</td>\n",
       "      <td>0</td>\n",
       "      <td>0</td>\n",
       "      <td>0</td>\n",
       "    </tr>\n",
       "  </tbody>\n",
       "</table>\n",
       "</div>"
      ],
      "text/plain": [
       "   work_year  experience_level                   job_title  salary_in_usd  \\\n",
       "0       2020                 2              Data Scientist          79833   \n",
       "1       2020                 3  Machine Learning Scientist         260000   \n",
       "2       2020                 3           Big Data Engineer         109024   \n",
       "3       2020                 2        Product Data Analyst          20000   \n",
       "4       2020                 3   Machine Learning Engineer         150000   \n",
       "\n",
       "  employee_residence  remote_ratio company_location  company_size  \\\n",
       "0                 DE             0               DE             3   \n",
       "1                 JP             0               JP             1   \n",
       "2                 GB             1               GB             2   \n",
       "3                 HN             0               HN             1   \n",
       "4                 US             1               US             3   \n",
       "\n",
       "   employment_type_FT  employment_type_CT  employment_type_PT  \\\n",
       "0                   1                   0                   0   \n",
       "1                   1                   0                   0   \n",
       "2                   1                   0                   0   \n",
       "3                   1                   0                   0   \n",
       "4                   1                   0                   0   \n",
       "\n",
       "   employment_type_FL  \n",
       "0                   0  \n",
       "1                   0  \n",
       "2                   0  \n",
       "3                   0  \n",
       "4                   0  "
      ]
     },
     "execution_count": 13,
     "metadata": {},
     "output_type": "execute_result"
    }
   ],
   "source": [
    "columns = [\"employment_type\", \"salary\", \"salary_currency\"]\n",
    "\n",
    "hr_df = hr_df.drop(columns=columns, axis=1)\n",
    "hr_df.head()"
   ]
  },
  {
   "cell_type": "markdown",
   "metadata": {},
   "source": [
    "# Анализ данных"
   ]
  },
  {
   "cell_type": "markdown",
   "metadata": {},
   "source": [
    "Для просмотра зависимости зарплаты Data Scientist проведем графический анализ"
   ]
  },
  {
   "cell_type": "markdown",
   "metadata": {},
   "source": [
    "### Скопируем исходный датафрейм:"
   ]
  },
  {
   "cell_type": "code",
   "execution_count": 14,
   "metadata": {},
   "outputs": [],
   "source": [
    "df_copy = hr_df.copy()"
   ]
  },
  {
   "cell_type": "markdown",
   "metadata": {},
   "source": [
    "Отфильтруем его, чтобы у нас была статистика только по профессии Data Scientist"
   ]
  },
  {
   "cell_type": "code",
   "execution_count": 15,
   "metadata": {},
   "outputs": [],
   "source": [
    "df_copy = df_copy[df_copy[\"job_title\"] == \"Data Scientist\"]\n",
    "df_copy = df_copy.drop(columns=[\"job_title\"], axis=1)"
   ]
  },
  {
   "cell_type": "code",
   "execution_count": 16,
   "metadata": {},
   "outputs": [
    {
     "data": {
      "text/html": [
       "<div>\n",
       "<style scoped>\n",
       "    .dataframe tbody tr th:only-of-type {\n",
       "        vertical-align: middle;\n",
       "    }\n",
       "\n",
       "    .dataframe tbody tr th {\n",
       "        vertical-align: top;\n",
       "    }\n",
       "\n",
       "    .dataframe thead th {\n",
       "        text-align: right;\n",
       "    }\n",
       "</style>\n",
       "<table border=\"1\" class=\"dataframe\">\n",
       "  <thead>\n",
       "    <tr style=\"text-align: right;\">\n",
       "      <th></th>\n",
       "      <th>work_year</th>\n",
       "      <th>experience_level</th>\n",
       "      <th>salary_in_usd</th>\n",
       "      <th>employee_residence</th>\n",
       "      <th>remote_ratio</th>\n",
       "      <th>company_location</th>\n",
       "      <th>company_size</th>\n",
       "      <th>employment_type_FT</th>\n",
       "      <th>employment_type_CT</th>\n",
       "      <th>employment_type_PT</th>\n",
       "      <th>employment_type_FL</th>\n",
       "    </tr>\n",
       "  </thead>\n",
       "  <tbody>\n",
       "    <tr>\n",
       "      <th>0</th>\n",
       "      <td>2020</td>\n",
       "      <td>2</td>\n",
       "      <td>79833</td>\n",
       "      <td>DE</td>\n",
       "      <td>0</td>\n",
       "      <td>DE</td>\n",
       "      <td>3</td>\n",
       "      <td>1</td>\n",
       "      <td>0</td>\n",
       "      <td>0</td>\n",
       "      <td>0</td>\n",
       "    </tr>\n",
       "    <tr>\n",
       "      <th>7</th>\n",
       "      <td>2020</td>\n",
       "      <td>2</td>\n",
       "      <td>35735</td>\n",
       "      <td>HU</td>\n",
       "      <td>1</td>\n",
       "      <td>HU</td>\n",
       "      <td>3</td>\n",
       "      <td>1</td>\n",
       "      <td>0</td>\n",
       "      <td>0</td>\n",
       "      <td>0</td>\n",
       "    </tr>\n",
       "    <tr>\n",
       "      <th>10</th>\n",
       "      <td>2020</td>\n",
       "      <td>1</td>\n",
       "      <td>51321</td>\n",
       "      <td>FR</td>\n",
       "      <td>0</td>\n",
       "      <td>FR</td>\n",
       "      <td>1</td>\n",
       "      <td>1</td>\n",
       "      <td>0</td>\n",
       "      <td>0</td>\n",
       "      <td>0</td>\n",
       "    </tr>\n",
       "    <tr>\n",
       "      <th>11</th>\n",
       "      <td>2020</td>\n",
       "      <td>2</td>\n",
       "      <td>40481</td>\n",
       "      <td>IN</td>\n",
       "      <td>0</td>\n",
       "      <td>IN</td>\n",
       "      <td>3</td>\n",
       "      <td>1</td>\n",
       "      <td>0</td>\n",
       "      <td>0</td>\n",
       "      <td>0</td>\n",
       "    </tr>\n",
       "    <tr>\n",
       "      <th>12</th>\n",
       "      <td>2020</td>\n",
       "      <td>1</td>\n",
       "      <td>39916</td>\n",
       "      <td>FR</td>\n",
       "      <td>0</td>\n",
       "      <td>FR</td>\n",
       "      <td>2</td>\n",
       "      <td>1</td>\n",
       "      <td>0</td>\n",
       "      <td>0</td>\n",
       "      <td>0</td>\n",
       "    </tr>\n",
       "  </tbody>\n",
       "</table>\n",
       "</div>"
      ],
      "text/plain": [
       "    work_year  experience_level  salary_in_usd employee_residence  \\\n",
       "0        2020                 2          79833                 DE   \n",
       "7        2020                 2          35735                 HU   \n",
       "10       2020                 1          51321                 FR   \n",
       "11       2020                 2          40481                 IN   \n",
       "12       2020                 1          39916                 FR   \n",
       "\n",
       "    remote_ratio company_location  company_size  employment_type_FT  \\\n",
       "0              0               DE             3                   1   \n",
       "7              1               HU             3                   1   \n",
       "10             0               FR             1                   1   \n",
       "11             0               IN             3                   1   \n",
       "12             0               FR             2                   1   \n",
       "\n",
       "    employment_type_CT  employment_type_PT  employment_type_FL  \n",
       "0                    0                   0                   0  \n",
       "7                    0                   0                   0  \n",
       "10                   0                   0                   0  \n",
       "11                   0                   0                   0  \n",
       "12                   0                   0                   0  "
      ]
     },
     "execution_count": 16,
     "metadata": {},
     "output_type": "execute_result"
    }
   ],
   "source": [
    "df_copy.head()"
   ]
  },
  {
   "cell_type": "markdown",
   "metadata": {},
   "source": [
    "### Распределение заработной платы среди специалистов Data Scientist"
   ]
  },
  {
   "cell_type": "code",
   "execution_count": 17,
   "metadata": {},
   "outputs": [],
   "source": [
    "import matplotlib.pyplot as plt\n",
    "import seaborn as sns"
   ]
  },
  {
   "cell_type": "code",
   "execution_count": 18,
   "metadata": {},
   "outputs": [
    {
     "data": {
      "image/png": "[encoded data removed]",
      "text/plain": [
       "<Figure size 1500x500 with 2 Axes>"
      ]
     },
     "metadata": {},
     "output_type": "display_data"
    }
   ],
   "source": [
    "fig, axes = plt.subplots(1, 2, figsize=(15, 5))\n",
    "\n",
    "sns.histplot(df_copy['salary_in_usd'], kde=True, ax=axes[0])\n",
    "axes[0].set(xlabel='Размер заработной платы', ylabel='Частота')\n",
    "axes[0].set_title('Распределение заработной платы')\n",
    "axes[0].axvline(df_copy['salary_in_usd'].mean(), color='red', linestyle='--', linewidth=0.8)\n",
    "\n",
    "sns.boxplot(df_copy['salary_in_usd'], ax=axes[1], orient='h', medianprops={\"color\": \"red\", \"linestyle\": '--'})\n",
    "axes[1].set(ylabel='Размер заработной платы')\n",
    "axes[1].set_title('Распределение заработной платы');"
   ]
  },
  {
   "cell_type": "markdown",
   "metadata": {},
   "source": [
    "Судя по графикам, специалисты в сфере Data Scientist в среднем зарабатывают 100тыс. С отклонением $\\pm$ 50тыс. \\\n",
    "Прослеживается нормальное распределение зарплат, но левостороннее. \\\n",
    "Присутствует выброс в размере около 400тыс."
   ]
  },
  {
   "cell_type": "markdown",
   "metadata": {},
   "source": [
    "### Распределение заработной платы по годам"
   ]
  },
  {
   "cell_type": "code",
   "execution_count": 19,
   "metadata": {},
   "outputs": [
    {
     "data": {
      "image/png": "[encoded data removed]",
      "text/plain": [
       "<Figure size 640x480 with 1 Axes>"
      ]
     },
     "metadata": {},
     "output_type": "display_data"
    }
   ],
   "source": [
    "ax = sns.boxplot(df_copy, x='salary_in_usd', y='work_year', orient='h', medianprops={\"color\": \"red\", \"linestyle\": '--'})\n",
    "ax.set(xlabel='Размер заработной платы', ylabel='Год')\n",
    "plt.title('Распределение заработной платы по годам')\n",
    "plt.show()"
   ]
  },
  {
   "cell_type": "markdown",
   "metadata": {},
   "source": [
    "Исходя из полученного графика, можно сделать вывод, что с каждым годом зарплата Data Scientist специалиста растет:\n",
    "\n",
    "* 2020: медианная зарплата - 80 тыс.\n",
    "* 2021: медианная зарплата - 90 тыс.\n",
    "* 2022: медианная зарплата - 140 тыс.\n",
    "\n",
    "Выброс в 400 тыс. присутствует в 2020 году\n",
    "\n",
    "Данное утверждение необходимо проверить с помощью статистических тестов"
   ]
  },
  {
   "cell_type": "markdown",
   "metadata": {},
   "source": [
    "### Распределение заработной платы по уровню специалиста"
   ]
  },
  {
   "cell_type": "code",
   "execution_count": 20,
   "metadata": {},
   "outputs": [
    {
     "data": {
      "image/png": "[encoded data removed]",
      "text/plain": [
       "<Figure size 640x480 with 1 Axes>"
      ]
     },
     "metadata": {},
     "output_type": "display_data"
    }
   ],
   "source": [
    "ax = sns.boxplot(df_copy, x='salary_in_usd', y='experience_level', orient='h', medianprops={\"color\": \"red\", \"linestyle\": '--'})\n",
    "ax.set(xlabel='Размер заработной платы', ylabel='уровень специалиста')\n",
    "plt.title('Распределение заработной платы по уровню специалиста')\n",
    "plt.show()"
   ]
  },
  {
   "cell_type": "markdown",
   "metadata": {},
   "source": [
    "Здесь явно прослеживается закономерность - чем выше уровень специалиста, тем больше его заработная плата"
   ]
  },
  {
   "cell_type": "markdown",
   "metadata": {},
   "source": [
    "### Соотношение зарплат Data Scientist и Data Engineer в 2022 году"
   ]
  },
  {
   "cell_type": "code",
   "execution_count": 30,
   "metadata": {},
   "outputs": [],
   "source": [
    "jobs = [\"^Data Scientist$\", \"^Data Engineer$\"]\n",
    "df_copy = hr_df[hr_df[\"job_title\"].str.contains(\"|\".join(jobs), regex=True)]\n",
    "df_copy = df_copy[df_copy[\"work_year\"] == 2022]\n"
   ]
  },
  {
   "cell_type": "code",
   "execution_count": 29,
   "metadata": {},
   "outputs": [
    {
     "data": {
      "image/png": "[encoded data removed]",
      "text/plain": [
       "<Figure size 640x480 with 1 Axes>"
      ]
     },
     "metadata": {},
     "output_type": "display_data"
    }
   ],
   "source": [
    "ax = sns.boxplot(df_copy, x='salary_in_usd', y='job_title', orient='h', medianprops={\"color\": \"red\", \"linestyle\": '--'})\n",
    "ax.set(xlabel='Размер заработной платы', ylabel='Роль')\n",
    "plt.title('Распределение заработной платы Data Scientist и Data Engineer в 2022 году')\n",
    "plt.show()"
   ]
  },
  {
   "cell_type": "markdown",
   "metadata": {},
   "source": [
    "Соотношение заработных плат примерно одинаково, но на графике видно что в целом оплата труда Data Scientist специалиста выше в 2022 году."
   ]
  },
  {
   "cell_type": "markdown",
   "metadata": {},
   "source": [
    "### Cоотношение зарплаты специалистов Data Scientist в компаниях различных размеров"
   ]
  },
  {
   "cell_type": "code",
   "execution_count": 31,
   "metadata": {},
   "outputs": [],
   "source": [
    "df_copy = hr_df[hr_df[\"job_title\"] == \"Data Scientist\"]"
   ]
  },
  {
   "cell_type": "code",
   "execution_count": 32,
   "metadata": {},
   "outputs": [
    {
     "data": {
      "image/png": "[encoded data removed]",
      "text/plain": [
       "<Figure size 640x480 with 1 Axes>"
      ]
     },
     "metadata": {},
     "output_type": "display_data"
    }
   ],
   "source": [
    "ax = sns.boxplot(df_copy, x='salary_in_usd', y='company_size', orient='h', medianprops={\"color\": \"red\", \"linestyle\": '--'})\n",
    "ax.set(xlabel='Размер заработной платы', ylabel='Размер компании')\n",
    "plt.title('Распределение заработной платы Data Scientist по размерам компании')\n",
    "plt.show()"
   ]
  },
  {
   "cell_type": "markdown",
   "metadata": {},
   "source": [
    "То есть распределение следующее:\n",
    "\n",
    "$m_S$ - медианная оплата труда в маленьких компаниях \\\n",
    "$m_M$ - медианная оплата труда в средних компаниях \\\n",
    "$m_L$ - медианная оплата труда в больших компаниях\n",
    "\n",
    "$m_S < m_L < m_M$"
   ]
  },
  {
   "cell_type": "markdown",
   "metadata": {},
   "source": [
    "Делаем вывод что в средних компаниях самая большая оплата труда, а в маленьких самая низкая оплата труда"
   ]
  },
  {
   "cell_type": "markdown",
   "metadata": {},
   "source": [
    "Так же можем сделать вывод, что зарплата в 400тыс. может не являться выбросом. \\\n",
    "Такую зарплату получил человек в 2020 году в крупной компании, работающий по специальности Data Engineer уровня Senior/Expert"
   ]
  },
  {
   "cell_type": "markdown",
   "metadata": {},
   "source": [
    "### Есть ли связь между наличием должностей **Data Scientist** и **Data Engineer** и размером компании?"
   ]
  },
  {
   "cell_type": "markdown",
   "metadata": {},
   "source": [
    "Для проведения данного анализа подготовим данные"
   ]
  },
  {
   "cell_type": "code",
   "execution_count": 39,
   "metadata": {},
   "outputs": [
    {
     "data": {
      "text/html": [
       "<div>\n",
       "<style scoped>\n",
       "    .dataframe tbody tr th:only-of-type {\n",
       "        vertical-align: middle;\n",
       "    }\n",
       "\n",
       "    .dataframe tbody tr th {\n",
       "        vertical-align: top;\n",
       "    }\n",
       "\n",
       "    .dataframe thead th {\n",
       "        text-align: right;\n",
       "    }\n",
       "</style>\n",
       "<table border=\"1\" class=\"dataframe\">\n",
       "  <thead>\n",
       "    <tr style=\"text-align: right;\">\n",
       "      <th></th>\n",
       "      <th>job_title</th>\n",
       "      <th>company_size</th>\n",
       "    </tr>\n",
       "  </thead>\n",
       "  <tbody>\n",
       "    <tr>\n",
       "      <th>0</th>\n",
       "      <td>Data Scientist</td>\n",
       "      <td>3</td>\n",
       "    </tr>\n",
       "    <tr>\n",
       "      <th>7</th>\n",
       "      <td>Data Scientist</td>\n",
       "      <td>3</td>\n",
       "    </tr>\n",
       "    <tr>\n",
       "      <th>10</th>\n",
       "      <td>Data Scientist</td>\n",
       "      <td>1</td>\n",
       "    </tr>\n",
       "    <tr>\n",
       "      <th>11</th>\n",
       "      <td>Data Scientist</td>\n",
       "      <td>3</td>\n",
       "    </tr>\n",
       "    <tr>\n",
       "      <th>12</th>\n",
       "      <td>Data Scientist</td>\n",
       "      <td>2</td>\n",
       "    </tr>\n",
       "  </tbody>\n",
       "</table>\n",
       "</div>"
      ],
      "text/plain": [
       "         job_title  company_size\n",
       "0   Data Scientist             3\n",
       "7   Data Scientist             3\n",
       "10  Data Scientist             1\n",
       "11  Data Scientist             3\n",
       "12  Data Scientist             2"
      ]
     },
     "execution_count": 39,
     "metadata": {},
     "output_type": "execute_result"
    }
   ],
   "source": [
    "jobs = [\"^Data Scientist$\", \"^Data Engineer$\"]\n",
    "df_copy = hr_df[hr_df[\"job_title\"].str.contains(\"|\".join(jobs), regex=True)]\n",
    "df_copy = df_copy[[\"job_title\", \"company_size\"]]\n",
    "df_copy.head()"
   ]
  },
  {
   "cell_type": "markdown",
   "metadata": {},
   "source": [
    "Закодируем признаки и построим матрицу корреляции \\\n",
    "Для каждого признака будем использовать *One-Hot Encoding*"
   ]
  },
  {
   "cell_type": "code",
   "execution_count": 40,
   "metadata": {},
   "outputs": [
    {
     "data": {
      "text/html": [
       "<div>\n",
       "<style scoped>\n",
       "    .dataframe tbody tr th:only-of-type {\n",
       "        vertical-align: middle;\n",
       "    }\n",
       "\n",
       "    .dataframe tbody tr th {\n",
       "        vertical-align: top;\n",
       "    }\n",
       "\n",
       "    .dataframe thead th {\n",
       "        text-align: right;\n",
       "    }\n",
       "</style>\n",
       "<table border=\"1\" class=\"dataframe\">\n",
       "  <thead>\n",
       "    <tr style=\"text-align: right;\">\n",
       "      <th></th>\n",
       "      <th>job_title_Data Scientist</th>\n",
       "      <th>job_title_Data Engineer</th>\n",
       "      <th>company_size_3.0</th>\n",
       "      <th>company_size_1.0</th>\n",
       "      <th>company_size_2.0</th>\n",
       "    </tr>\n",
       "  </thead>\n",
       "  <tbody>\n",
       "    <tr>\n",
       "      <th>0</th>\n",
       "      <td>1</td>\n",
       "      <td>0</td>\n",
       "      <td>1</td>\n",
       "      <td>0</td>\n",
       "      <td>0</td>\n",
       "    </tr>\n",
       "    <tr>\n",
       "      <th>7</th>\n",
       "      <td>1</td>\n",
       "      <td>0</td>\n",
       "      <td>1</td>\n",
       "      <td>0</td>\n",
       "      <td>0</td>\n",
       "    </tr>\n",
       "    <tr>\n",
       "      <th>10</th>\n",
       "      <td>1</td>\n",
       "      <td>0</td>\n",
       "      <td>0</td>\n",
       "      <td>1</td>\n",
       "      <td>0</td>\n",
       "    </tr>\n",
       "    <tr>\n",
       "      <th>11</th>\n",
       "      <td>1</td>\n",
       "      <td>0</td>\n",
       "      <td>1</td>\n",
       "      <td>0</td>\n",
       "      <td>0</td>\n",
       "    </tr>\n",
       "    <tr>\n",
       "      <th>12</th>\n",
       "      <td>1</td>\n",
       "      <td>0</td>\n",
       "      <td>0</td>\n",
       "      <td>0</td>\n",
       "      <td>1</td>\n",
       "    </tr>\n",
       "  </tbody>\n",
       "</table>\n",
       "</div>"
      ],
      "text/plain": [
       "    job_title_Data Scientist  job_title_Data Engineer  company_size_3.0  \\\n",
       "0                          1                        0                 1   \n",
       "7                          1                        0                 1   \n",
       "10                         1                        0                 0   \n",
       "11                         1                        0                 1   \n",
       "12                         1                        0                 0   \n",
       "\n",
       "    company_size_1.0  company_size_2.0  \n",
       "0                  0                 0  \n",
       "7                  0                 0  \n",
       "10                 1                 0  \n",
       "11                 0                 0  \n",
       "12                 0                 1  "
      ]
     },
     "execution_count": 40,
     "metadata": {},
     "output_type": "execute_result"
    }
   ],
   "source": [
    "encoder = ce.OneHotEncoder(cols=['job_title'], use_cat_names=True)\n",
    "type_bin = encoder.fit_transform(df_copy['job_title'])\n",
    "df_copy = pd.concat([df_copy, type_bin], axis=1)\n",
    "\n",
    "encoder = ce.OneHotEncoder(cols=['company_size'], use_cat_names=True)\n",
    "type_bin = encoder.fit_transform(df_copy['company_size'])\n",
    "df_copy = pd.concat([df_copy, type_bin], axis=1)\n",
    "df_copy = df_copy.drop([\"job_title\", \"company_size\"], axis=1)\n",
    "\n",
    "df_copy.head()"
   ]
  },
  {
   "cell_type": "markdown",
   "metadata": {},
   "source": [
    "Построим матрицу корреляции"
   ]
  },
  {
   "cell_type": "code",
   "execution_count": 43,
   "metadata": {},
   "outputs": [
    {
     "data": {
      "image/png": "[encoded data removed]",
      "text/plain": [
       "<Figure size 800x800 with 2 Axes>"
      ]
     },
     "metadata": {},
     "output_type": "display_data"
    }
   ],
   "source": [
    "import numpy as np\n",
    "fig, (ax1) = plt.subplots(ncols=1, figsize=(8, 8))\n",
    "ax1.set_title(\"Матрица корреляции\")\n",
    "\n",
    "param = {\n",
    "    \"annot\":True, \n",
    "    \"fmt\":\".1f\", \n",
    "    \"vmin\":-1, \n",
    "    \"vmax\":1, \n",
    "    \"center\":0, \n",
    "    \"cmap\":\"coolwarm\",\n",
    "    \"square\":True\n",
    "}\n",
    "heat_mask = np.tril(df_copy.corr(numeric_only=True))\n",
    "sns.heatmap(df_copy.corr(numeric_only=True), ax=ax1, **param, mask=heat_mask);"
   ]
  },
  {
   "cell_type": "markdown",
   "metadata": {},
   "source": [
    "Как видим коэффициенты между должностью и размером компании в пределах $\\pm$ 0.2, что говорит нам об очень слабой связи между признаками"
   ]
  },
  {
   "cell_type": "markdown",
   "metadata": {},
   "source": [
    "## Статистическое тестирование"
   ]
  },
  {
   "cell_type": "markdown",
   "metadata": {},
   "source": [
    "Зададим коэффициент принятия решения равным 0.05"
   ]
  },
  {
   "cell_type": "code",
   "execution_count": 44,
   "metadata": {},
   "outputs": [],
   "source": [
    "alpha = 0.05"
   ]
  },
  {
   "cell_type": "markdown",
   "metadata": {},
   "source": [
    "Для статистического тестирования подготовим пару функций:"
   ]
  },
  {
   "cell_type": "code",
   "execution_count": 53,
   "metadata": {},
   "outputs": [],
   "source": [
    "# функция для принятия решения о нормальности\n",
    "def decision_normality(p):\n",
    "    print('p-value = {:.3f}'.format(p))\n",
    "    if p <= alpha:\n",
    "        print('p-значение меньше, чем заданный уровень значимости {:.2f}.\\nРаспределение отлично от нормального'.format(alpha))\n",
    "    else:\n",
    "        print('p-значение больше, чем заданный уровень значимости {:.2f}.\\nРаспределение является нормальным'.format(alpha))\n",
    "        \n",
    "\n",
    "# функция для принятия решения о равенстве дисперсий\n",
    "def decision_disper(p):\n",
    "    print('p-value = {:.3f}'.format(p))\n",
    "    if p <= alpha:\n",
    "        print('Дисперсии не одинаковы.')\n",
    "    else:\n",
    "        print('Дисперсии одинаковы.')\n",
    "\n",
    "\n",
    "# функция для принятия решения об отклонении нулевой гипотезы\n",
    "def decision_hypothesis(p):\n",
    "    print('p-value = {:.3f}'.format(p))\n",
    "    if p <= alpha:\n",
    "        print('p-значение меньше, чем заданный уровень значимости {:.2f}.\\nОтвергаем нулевую гипотезу в пользу альтернативной.'.format(alpha))\n",
    "    else:\n",
    "        print('p-значение больше, чем заданный уровень значимости {:.2f}.\\nУ нас нет оснований отвергнуть нулевую гипотезу.'.format(alpha))"
   ]
  },
  {
   "cell_type": "markdown",
   "metadata": {},
   "source": [
    "### Построение гипотиз"
   ]
  },
  {
   "cell_type": "markdown",
   "metadata": {},
   "source": [
    "1. Наблюдается ли ежегодный рост зарплат у специалистов **Data Scientist**?\n",
    "    * Заработная плата Data Scientist специалиста за 2021 год увеличелась по сравнению с 2020?\n",
    "    * Заработная плата Data Scientist специалиста за 2022 год увеличелась по сравнению с 2021?\n",
    "\n",
    "2. Как соотносятся зарплаты **Data Scientist** и **Data Engineer** в 2022 году?\n",
    "    * Заработная плата Data Scientist специалиста больше чем у Data Engineer в 2022 году?\n",
    "\n",
    "3. Как соотносятся зарплаты специалистов **Data Scientist** в компаниях различных размеров?\n",
    "    * Заработная плата Data Scientist специалиста в маленьких компаниях меньше чем в крупных?\n",
    "    * Заработная плата Data Scientist специалиста в крупных компаниях меньше чем в средних?\n",
    "\n",
    "4. Есть ли связь между наличием должностей **Data Scientist** и **Data Engineer** и размером компании?"
   ]
  },
  {
   "cell_type": "markdown",
   "metadata": {},
   "source": [
    "___"
   ]
  },
  {
   "cell_type": "markdown",
   "metadata": {},
   "source": [
    "#### Наблюдается ли ежегодный рост зарплат у специалистов **Data Scientist**?"
   ]
  },
  {
   "cell_type": "markdown",
   "metadata": {},
   "source": [
    "* Заработная плата Data Scientist специалиста за 2021 год увеличелась по сравнению с 2020?\n",
    "\n",
    "Нулевая гипотиза: за 2021 год зарплата не изменилась или уменьшилась по сравнению с 2020 \\\n",
    "Альтернативная: за 2021 год зарплата увеличилась по сравнению с 2020\n",
    "\n",
    "$\\mu_1$ - зарплата за 2020 год \\\n",
    "$\\mu_2$ - зарплата за 2021 год\n",
    "\n",
    "$H_0 : \\mu_1 \\geq \\mu_2$ \\\n",
    "$H_1 : \\mu_1 < \\mu_2$"
   ]
  },
  {
   "cell_type": "code",
   "execution_count": 67,
   "metadata": {},
   "outputs": [],
   "source": [
    "data_2020 = np.array(hr_df[(hr_df[\"job_title\"] == \"Data Scientist\") & (hr_df[\"work_year\"] == 2020)][\"salary_in_usd\"])\n",
    "data_2021 = np.array(hr_df[(hr_df[\"job_title\"] == \"Data Scientist\") & (hr_df[\"work_year\"] == 2021)][\"salary_in_usd\"])\n",
    "data_2022 = np.array(hr_df[(hr_df[\"job_title\"] == \"Data Scientist\") & (hr_df[\"work_year\"] == 2022)][\"salary_in_usd\"])"
   ]
  },
  {
   "cell_type": "markdown",
   "metadata": {},
   "source": [
    "Проверим данные на нормальность используя тест Шапиро — Уилка"
   ]
  },
  {
   "cell_type": "code",
   "execution_count": 68,
   "metadata": {},
   "outputs": [
    {
     "name": "stdout",
     "output_type": "stream",
     "text": [
      "p-value = 0.000\n",
      "p-значение меньше, чем заданный уровень значимости 0.05.\n",
      "Распределение отлично от нормального\n",
      "\n",
      "p-value = 0.107\n",
      "p-значение больше, чем заданный уровень значимости 0.05.\n",
      "Распределение является нормальным\n",
      "\n",
      "p-value = 0.676\n",
      "p-значение больше, чем заданный уровень значимости 0.05.\n",
      "Распределение является нормальным\n"
     ]
    }
   ],
   "source": [
    "import scipy.stats as stats\n",
    "\n",
    "_, p = stats.shapiro(data_2020)\n",
    "decision_normality(p)\n",
    "print()\n",
    "_, p = stats.shapiro(data_2021)\n",
    "decision_normality(p)\n",
    "print()\n",
    "_, p = stats.shapiro(data_2022)\n",
    "decision_normality(p)"
   ]
  },
  {
   "cell_type": "markdown",
   "metadata": {},
   "source": [
    "Подведем итоги и выберем метод тестирования:\n",
    "\n",
    "* Тип признака - **количественный**\n",
    "* Количество сравниваемых групп - **2**\n",
    "* Признаки зависимы - **нет**\n",
    "* распределены по нормальному закону - **нет**\n",
    "\n",
    "Нам подходит U-Критерий Манна — Уитни \\\n",
    "Приступаем к тестированию:"
   ]
  },
  {
   "cell_type": "code",
   "execution_count": 75,
   "metadata": {},
   "outputs": [
    {
     "name": "stdout",
     "output_type": "stream",
     "text": [
      "p-value = 0.705\n",
      "p-значение больше, чем заданный уровень значимости 0.05.\n",
      "У нас нет оснований отвергнуть нулевую гипотезу.\n",
      "\n",
      "p-value = 0.599\n",
      "p-значение больше, чем заданный уровень значимости 0.05.\n",
      "У нас нет оснований отвергнуть нулевую гипотезу.\n"
     ]
    }
   ],
   "source": [
    "_, p = stats.mannwhitneyu(data_2020, data_2021, alternative = 'less') # основной тест\n",
    "decision_hypothesis(p)\n",
    "print()\n",
    "_, p = stats.mannwhitneyu(data_2020, data_2021, alternative=\"two-sided\")\n",
    "decision_hypothesis(p)"
   ]
  },
  {
   "cell_type": "markdown",
   "metadata": {},
   "source": [
    "**Вывод:** у нас недостаточно оснований, чтобы утверждать, что зарплата за 2021 год выросла по сравнению с зарплатой за 2020 год для специалистов Data Scientist. С учетом второго теста можем сказать, что зарплата за 2021 год и за 2020 год примерно одинакова, что мы могли наблюдать на графиках выше"
   ]
  },
  {
   "cell_type": "markdown",
   "metadata": {},
   "source": [
    "___"
   ]
  },
  {
   "cell_type": "markdown",
   "metadata": {},
   "source": [
    "* Заработная плата Data Scientist специалиста за 2022 год увеличелась по сравнению с 2021?"
   ]
  },
  {
   "cell_type": "markdown",
   "metadata": {},
   "source": [
    "Нулевая гипотиза: за 2022 год зарплата не изменилась или уменьшилась по сравнению с 2021 \\\n",
    "Альтернативная: за 2022 год зарплата увеличилась по сравнению с 2021\n",
    "\n",
    "$\\mu_1$ - зарплата за 2021 год \\\n",
    "$\\mu_2$ - зарплата за 2022 год\n",
    "\n",
    "$H_0 : \\mu_1 \\geq \\mu_2$ \\\n",
    "$H_1 : \\mu_1 < \\mu_2$"
   ]
  },
  {
   "cell_type": "markdown",
   "metadata": {},
   "source": [
    "Подведем итоги и выберем метод тестирования:\n",
    "\n",
    "* Тип признака - **количественный**\n",
    "* Количество сравниваемых групп - **2**\n",
    "* Признаки зависимы - **нет**\n",
    "* распределены по нормальному закону - **да**\n",
    "\n",
    "Нам подходит Двухвыборочный t-критерий \\\n",
    "Приступаем к тестированию:"
   ]
  },
  {
   "cell_type": "markdown",
   "metadata": {},
   "source": [
    "Проведем тест на равенство дисперсий"
   ]
  },
  {
   "cell_type": "code",
   "execution_count": 69,
   "metadata": {},
   "outputs": [
    {
     "name": "stdout",
     "output_type": "stream",
     "text": [
      "p-value = 0.264\n",
      "Дисперсии одинаковы.\n"
     ]
    }
   ],
   "source": [
    "result = stats.levene(data_2021, data_2022)\n",
    "p = result[1]\n",
    "decision_disper(p)"
   ]
  },
  {
   "cell_type": "code",
   "execution_count": 70,
   "metadata": {},
   "outputs": [
    {
     "name": "stdout",
     "output_type": "stream",
     "text": [
      "p-value = 0.000\n",
      "p-значение меньше, чем заданный уровень значимости 0.05.\n",
      "Отвергаем нулевую гипотезу в пользу альтернативной.\n"
     ]
    }
   ],
   "source": [
    "_, p = stats.ttest_ind(data_2021, data_2022, alternative='less', equal_var=True)\n",
    "decision_hypothesis(p)"
   ]
  },
  {
   "cell_type": "markdown",
   "metadata": {},
   "source": [
    "**Вывод:** Зарплаты за 2022 год однозначно выросли по сравнению с 2021 годом для специалистов Data Scientist"
   ]
  },
  {
   "cell_type": "markdown",
   "metadata": {},
   "source": [
    "**Общий вывод по вопросу:** Точно сделать заявление, что зарплаты с каждым годом растут мы не можем, но мы можем точно утверждать что начиная с 2022 года зарплаты выросли"
   ]
  },
  {
   "cell_type": "markdown",
   "metadata": {},
   "source": [
    "___"
   ]
  },
  {
   "cell_type": "markdown",
   "metadata": {},
   "source": [
    "#### Как соотносятся зарплаты **Data Scientist** и **Data Engineer** в 2022 году?"
   ]
  },
  {
   "cell_type": "markdown",
   "metadata": {},
   "source": [
    "* Заработная плата Data Scientist специалиста больше чем у Data Engineer в 2022 году?"
   ]
  },
  {
   "cell_type": "markdown",
   "metadata": {},
   "source": [
    "Нулевая гипотиза: Зарплаты Data Scientist специалистов меньше или равны зарплатам Data Engineer специалистов \\\n",
    "Альтернативная: Зарплаты Data Scientist специалистов больше зарплат Data Engineer специалистов\n",
    "\n",
    "$\\mu_1$ - зарплата за 2022 год Data Scientist специалистов \\\n",
    "$\\mu_2$ - зарплата за 2022 год Data Engineer специалистов\n",
    "\n",
    "$H_0 : \\mu_1 \\leq \\mu_2$ \\\n",
    "$H_1 : \\mu_1 > \\mu_2$"
   ]
  },
  {
   "cell_type": "code",
   "execution_count": 71,
   "metadata": {},
   "outputs": [],
   "source": [
    "data_scientist = np.array(hr_df[(hr_df[\"job_title\"] == \"Data Scientist\") & (hr_df[\"work_year\"] == 2022)][\"salary_in_usd\"])\n",
    "data_engineer = np.array(hr_df[(hr_df[\"job_title\"] == \"Data Engineer\") & (hr_df[\"work_year\"] == 2022)][\"salary_in_usd\"])"
   ]
  },
  {
   "cell_type": "markdown",
   "metadata": {},
   "source": [
    "Проверим данные на нормальность:"
   ]
  },
  {
   "cell_type": "code",
   "execution_count": 72,
   "metadata": {},
   "outputs": [
    {
     "name": "stdout",
     "output_type": "stream",
     "text": [
      "p-value = 0.676\n",
      "p-значение больше, чем заданный уровень значимости 0.05.\n",
      "Распределение является нормальным\n",
      "\n",
      "p-value = 0.007\n",
      "p-значение меньше, чем заданный уровень значимости 0.05.\n",
      "Распределение отлично от нормального\n"
     ]
    }
   ],
   "source": [
    "_, p = stats.shapiro(data_scientist)\n",
    "decision_normality(p)\n",
    "print()\n",
    "_, p = stats.shapiro(data_engineer)\n",
    "decision_normality(p)"
   ]
  },
  {
   "cell_type": "markdown",
   "metadata": {},
   "source": [
    "Подведем итоги и выберем метод тестирования:\n",
    "\n",
    "* Тип признака - **количественный**\n",
    "* Количество сравниваемых групп - **2**\n",
    "* Признаки зависимы - **нет**\n",
    "* распределены по нормальному закону - **нет**\n",
    "\n",
    "Нам подходит U-Критерий Манна — Уитни \\\n",
    "Приступаем к тестированию:"
   ]
  },
  {
   "cell_type": "code",
   "execution_count": 76,
   "metadata": {},
   "outputs": [
    {
     "name": "stdout",
     "output_type": "stream",
     "text": [
      "p-value = 0.160\n",
      "p-значение больше, чем заданный уровень значимости 0.05.\n",
      "У нас нет оснований отвергнуть нулевую гипотезу.\n",
      "\n",
      "p-value = 0.841\n",
      "p-значение больше, чем заданный уровень значимости 0.05.\n",
      "У нас нет оснований отвергнуть нулевую гипотезу.\n",
      "\n",
      "p-value = 0.319\n",
      "p-значение больше, чем заданный уровень значимости 0.05.\n",
      "У нас нет оснований отвергнуть нулевую гипотезу.\n"
     ]
    }
   ],
   "source": [
    "_, p = stats.mannwhitneyu(data_scientist, data_engineer, alternative=\"greater\") # Основной тест\n",
    "decision_hypothesis(p)\n",
    "print()\n",
    "_, p = stats.mannwhitneyu(data_scientist, data_engineer, alternative=\"less\")\n",
    "decision_hypothesis(p)\n",
    "print()\n",
    "_, p = stats.mannwhitneyu(data_scientist, data_engineer, alternative=\"two-sided\")\n",
    "decision_hypothesis(p)"
   ]
  },
  {
   "cell_type": "markdown",
   "metadata": {},
   "source": [
    "**Общий вывод по вопросу:** Зарплаты специалистов Data Scientist и Data Engineer одинаковы за 2022 год."
   ]
  },
  {
   "cell_type": "markdown",
   "metadata": {},
   "source": [
    "___"
   ]
  },
  {
   "cell_type": "markdown",
   "metadata": {},
   "source": [
    "#### Как соотносятся зарплаты специалистов **Data Scientist** в компаниях различных размеров?"
   ]
  },
  {
   "cell_type": "markdown",
   "metadata": {},
   "source": [
    "* Есть ли разница по зарплатам в разных по размеру компаниях по специальности Data Scientist"
   ]
  },
  {
   "cell_type": "code",
   "execution_count": 78,
   "metadata": {},
   "outputs": [],
   "source": [
    "mask_data_scientist = hr_df[\"job_title\"] == \"Data Scientist\"\n",
    "data_small = np.array(hr_df[mask_data_scientist & (hr_df[\"company_size\"] == 1)][\"salary_in_usd\"])\n",
    "data_medium = np.array(hr_df[mask_data_scientist & (hr_df[\"company_size\"] == 2)][\"salary_in_usd\"])\n",
    "data_large = np.array(hr_df[mask_data_scientist & (hr_df[\"company_size\"] == 3)][\"salary_in_usd\"])"
   ]
  },
  {
   "cell_type": "markdown",
   "metadata": {},
   "source": [
    "Протестируем данные на нормальность:"
   ]
  },
  {
   "cell_type": "code",
   "execution_count": 80,
   "metadata": {},
   "outputs": [
    {
     "name": "stdout",
     "output_type": "stream",
     "text": [
      "p-value = 0.189\n",
      "p-значение больше, чем заданный уровень значимости 0.05.\n",
      "Распределение является нормальным\n",
      "\n",
      "p-value = 0.897\n",
      "p-значение больше, чем заданный уровень значимости 0.05.\n",
      "Распределение является нормальным\n",
      "\n",
      "p-value = 0.000\n",
      "p-значение меньше, чем заданный уровень значимости 0.05.\n",
      "Распределение отлично от нормального\n"
     ]
    }
   ],
   "source": [
    "_, p = stats.shapiro(data_small)\n",
    "decision_normality(p)\n",
    "print()\n",
    "_, p = stats.shapiro(data_medium)\n",
    "decision_normality(p)\n",
    "print()\n",
    "_, p = stats.shapiro(data_large)\n",
    "decision_normality(p)"
   ]
  },
  {
   "cell_type": "markdown",
   "metadata": {},
   "source": [
    "Гипотизы:\n",
    "\n",
    "Нулевая: разницы нет \\\n",
    "Альтернативная: разница есть\n",
    "\n",
    "$m_1$ - медианная зарплата в маленьких компаниях \\\n",
    "$m_2$ - медианная зарплата в средних компаниях \\\n",
    "$m_3$ - медианная зарплата в крупных компаниях\n",
    "\n",
    "$H_0 : m_1 = m_2 = m_3$ \\\n",
    "$H_1 : m_1 \\neq m_2 \\neq m_3$"
   ]
  },
  {
   "cell_type": "markdown",
   "metadata": {},
   "source": [
    "Подведем итоги и выберем метод тестирования:\n",
    "\n",
    "* Тип признака - **количественный**\n",
    "* Количество сравниваемых групп - **3**\n",
    "* Признаки зависимы - **нет**\n",
    "* распределены по нормальному закону - **нет**\n",
    "\n",
    "Нам подходит тест Краскела - Уоллиса \\\n",
    "Приступаем к тестированию:"
   ]
  },
  {
   "cell_type": "code",
   "execution_count": 81,
   "metadata": {},
   "outputs": [
    {
     "name": "stdout",
     "output_type": "stream",
     "text": [
      "p-value = 0.000\n",
      "p-значение меньше, чем заданный уровень значимости 0.05.\n",
      "Отвергаем нулевую гипотезу в пользу альтернативной.\n"
     ]
    }
   ],
   "source": [
    "_, p = stats.kruskal(data_small, data_medium, data_large)\n",
    "decision_hypothesis(p)"
   ]
  },
  {
   "cell_type": "markdown",
   "metadata": {},
   "source": [
    "**Вывод:** В зависимости от размера компании присутствует различие в размере оплаты труда специалистов Data Scientist"
   ]
  },
  {
   "cell_type": "markdown",
   "metadata": {},
   "source": [
    "___"
   ]
  },
  {
   "cell_type": "markdown",
   "metadata": {},
   "source": [
    "* Заработная плата Data Scientist специалиста в маленьких компаниях меньше чем в крупных?"
   ]
  },
  {
   "cell_type": "markdown",
   "metadata": {},
   "source": [
    "Гипотезы:\n",
    "\n",
    "Нулевая: Зарплата в маленьких компаниях больше или такая же как и в крупных \\\n",
    "Альтернативная: Зарплата в маленьких компаниях меньше чем в крупных\n",
    "\n",
    "$m_S$ - медианная зарплата в маленьких компаниях \\\n",
    "$m_L$ - медианная зарплата в крупных компаниях\n",
    "\n",
    "$H_0 : m_S \\geq m_L$ \\\n",
    "$H_1 : m_S < m_L$"
   ]
  },
  {
   "cell_type": "markdown",
   "metadata": {},
   "source": [
    "Подведем итоги и выберем метод тестирования:\n",
    "\n",
    "* Тип признака - **количественный**\n",
    "* Количество сравниваемых групп - **2**\n",
    "* Признаки зависимы - **нет**\n",
    "* распределены по нормальному закону - **нет**\n",
    "\n",
    "Нам подходит U-критерий Манна — Уитни \\\n",
    "Приступаем к тестированию:"
   ]
  },
  {
   "cell_type": "code",
   "execution_count": 82,
   "metadata": {},
   "outputs": [
    {
     "name": "stdout",
     "output_type": "stream",
     "text": [
      "p-value = 0.001\n",
      "p-значение меньше, чем заданный уровень значимости 0.05.\n",
      "Отвергаем нулевую гипотезу в пользу альтернативной.\n"
     ]
    }
   ],
   "source": [
    "_, p = stats.mannwhitneyu(data_small, data_large, alternative=\"less\")\n",
    "decision_hypothesis(p)"
   ]
  },
  {
   "cell_type": "markdown",
   "metadata": {},
   "source": [
    "**Вывод:** Зарплаты в курпных компаниях действительно больше чем в маленьких для специалистов Data Scientist"
   ]
  },
  {
   "cell_type": "markdown",
   "metadata": {},
   "source": [
    "___"
   ]
  },
  {
   "cell_type": "markdown",
   "metadata": {},
   "source": [
    "* Заработная плата Data Scientist специалиста в крупных компаниях меньше чем в средних?"
   ]
  },
  {
   "cell_type": "markdown",
   "metadata": {},
   "source": [
    "Гипотезы:\n",
    "\n",
    "Нулевая: Зарплата в крупных компаниях больше или такая же как и в средних \\\n",
    "Альтернативная: Зарплата в крупных компаниях меньше чем в средних\n",
    "\n",
    "$m_M$ - медианная зарплата в средних компаниях \\\n",
    "$m_L$ - медианная зарплата в крупных компаниях\n",
    "\n",
    "$H_0 : m_M \\leq m_L$ \\\n",
    "$H_1 : m_M > m_L$"
   ]
  },
  {
   "cell_type": "markdown",
   "metadata": {},
   "source": [
    "Подведем итоги и выберем метод тестирования:\n",
    "\n",
    "* Тип признака - **количественный**\n",
    "* Количество сравниваемых групп - **2**\n",
    "* Признаки зависимы - **нет**\n",
    "* распределены по нормальному закону - **нет**\n",
    "\n",
    "Нам подходит U-критерий Манна — Уитни \\\n",
    "Приступаем к тестированию:"
   ]
  },
  {
   "cell_type": "code",
   "execution_count": 83,
   "metadata": {},
   "outputs": [
    {
     "name": "stdout",
     "output_type": "stream",
     "text": [
      "p-value = 0.024\n",
      "p-значение меньше, чем заданный уровень значимости 0.05.\n",
      "Отвергаем нулевую гипотезу в пользу альтернативной.\n"
     ]
    }
   ],
   "source": [
    "_, p = stats.mannwhitneyu(data_medium, data_large, alternative=\"greater\")\n",
    "decision_hypothesis(p)"
   ]
  },
  {
   "cell_type": "markdown",
   "metadata": {},
   "source": [
    "**Вывод:** Зарплаты в курпных компаниях действительно меньше чем в средних для специалистов Data Scientist"
   ]
  },
  {
   "cell_type": "markdown",
   "metadata": {},
   "source": [
    "**Общий вывод по вопросу:** Учитывая что наши распределения выстроились следующим образом: $(m_S < m_L)$ и $(m_L < m_M)$, мы можем утверждать что справедливо распределение: $(m_S < m_L < m_M)$ \\\n",
    "А значит специалисты Data Scientist больше всего зарабатывают в средних компаниях"
   ]
  },
  {
   "cell_type": "markdown",
   "metadata": {},
   "source": [
    "___"
   ]
  },
  {
   "cell_type": "markdown",
   "metadata": {},
   "source": [
    "#### Есть ли связь между наличием должностей **Data Scientist** и **Data Engineer** и размером компании?"
   ]
  },
  {
   "cell_type": "markdown",
   "metadata": {},
   "source": [
    "Гипотезы:\n",
    "\n",
    "Нулевая: связи нет \\\n",
    "Альтернативная: связь есть"
   ]
  },
  {
   "cell_type": "markdown",
   "metadata": {},
   "source": [
    "Подведем итоги и выберем метод тестирования:\n",
    "\n",
    "* Тип признака - **категориальный**\n",
    "* Необходимо найти связь признаков - **да**\n",
    "\n",
    "Нам подходит Критерий хи-квадрат ($\\chi^2$) \\\n",
    "Приступаем к тестированию:"
   ]
  },
  {
   "cell_type": "markdown",
   "metadata": {},
   "source": [
    "Построим кросс-таблицу распределения:"
   ]
  },
  {
   "cell_type": "code",
   "execution_count": 87,
   "metadata": {},
   "outputs": [
    {
     "data": {
      "text/html": [
       "<div>\n",
       "<style scoped>\n",
       "    .dataframe tbody tr th:only-of-type {\n",
       "        vertical-align: middle;\n",
       "    }\n",
       "\n",
       "    .dataframe tbody tr th {\n",
       "        vertical-align: top;\n",
       "    }\n",
       "\n",
       "    .dataframe thead th {\n",
       "        text-align: right;\n",
       "    }\n",
       "</style>\n",
       "<table border=\"1\" class=\"dataframe\">\n",
       "  <thead>\n",
       "    <tr style=\"text-align: right;\">\n",
       "      <th>company_size</th>\n",
       "      <th>1</th>\n",
       "      <th>2</th>\n",
       "      <th>3</th>\n",
       "    </tr>\n",
       "    <tr>\n",
       "      <th>job_title</th>\n",
       "      <th></th>\n",
       "      <th></th>\n",
       "      <th></th>\n",
       "    </tr>\n",
       "  </thead>\n",
       "  <tbody>\n",
       "    <tr>\n",
       "      <th>Data Engineer</th>\n",
       "      <td>6</td>\n",
       "      <td>81</td>\n",
       "      <td>34</td>\n",
       "    </tr>\n",
       "    <tr>\n",
       "      <th>Data Scientist</th>\n",
       "      <td>21</td>\n",
       "      <td>66</td>\n",
       "      <td>43</td>\n",
       "    </tr>\n",
       "  </tbody>\n",
       "</table>\n",
       "</div>"
      ],
      "text/plain": [
       "company_size     1   2   3\n",
       "job_title                 \n",
       "Data Engineer    6  81  34\n",
       "Data Scientist  21  66  43"
      ]
     },
     "metadata": {},
     "output_type": "display_data"
    }
   ],
   "source": [
    "jobs = [\"^Data Scientist$\", \"^Data Engineer$\"]\n",
    "data = hr_df[hr_df[\"job_title\"].str.contains(\"|\".join(jobs), regex=True)]\n",
    "cross_table = pd.crosstab(data[\"job_title\"], data[\"company_size\"])\n",
    "display(cross_table)"
   ]
  },
  {
   "cell_type": "code",
   "execution_count": 88,
   "metadata": {},
   "outputs": [
    {
     "name": "stdout",
     "output_type": "stream",
     "text": [
      "p-value = 0.005\n",
      "p-значение меньше, чем заданный уровень значимости 0.05.\n",
      "Отвергаем нулевую гипотезу в пользу альтернативной.\n"
     ]
    }
   ],
   "source": [
    "_, p, _, _ = stats.chi2_contingency(cross_table)\n",
    "decision_hypothesis(p)"
   ]
  },
  {
   "cell_type": "markdown",
   "metadata": {},
   "source": [
    "**Общий вывод по вопросу:** В ходе тестирования было выяснено, что связь между специальностями Data Scientist, Data Engineer и размером компании четко прослеживается."
   ]
  }
 ],
 "metadata": {
  "kernelspec": {
   "display_name": "Python 3",
   "language": "python",
   "name": "python3"
  },
  "language_info": {
   "codemirror_mode": {
    "name": "ipython",
    "version": 3
   },
   "file_extension": ".py",
   "mimetype": "text/x-python",
   "name": "python",
   "nbconvert_exporter": "python",
   "pygments_lexer": "ipython3",
   "version": "3.9.10"
  }
 },
 "nbformat": 4,
 "nbformat_minor": 2
}
